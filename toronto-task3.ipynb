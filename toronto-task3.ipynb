{
 "cells": [
  {
   "cell_type": "markdown",
   "metadata": {},
   "source": [
    "# Week 3 Assignment: Segmentation and Clustering of Neighborhoods in Toronto"
   ]
  },
  {
   "cell_type": "markdown",
   "metadata": {},
   "source": [
    "## Task 3: Segmenting and Clustering Neighborhoods of Boroughs with names including 'Toronto'"
   ]
  },
  {
   "cell_type": "markdown",
   "metadata": {},
   "source": [
    "### Importing required libraries"
   ]
  },
  {
   "cell_type": "code",
   "execution_count": 65,
   "metadata": {},
   "outputs": [
    {
     "name": "stdout",
     "output_type": "stream",
     "text": [
      "Libraries imported.\n"
     ]
    }
   ],
   "source": [
    "# Standard libraries\n",
    "import pandas as pd\n",
    "import numpy as np\n",
    "\n",
    "# Library needed to read websites\n",
    "from urllib.request import urlopen\n",
    "\n",
    "# Libraries to extract and process geodata and JSON files\n",
    "import json # library to handle JSON files\n",
    "from geopy.geocoders import Nominatim # convert an address into latitude and longitude values\n",
    "import requests # library to handle requests\n",
    "from pandas import json_normalize # tranform JSON file into a pandas dataframe\n",
    "import geocoder\n",
    "\n",
    "# Libraries to create and manipulate maps\n",
    "import folium\n",
    "## Matplotlib and associated plotting modules\n",
    "import matplotlib.cm as cm\n",
    "import matplotlib.colors as colors\n",
    "\n",
    "## import k-means from clustering stage\n",
    "from sklearn.cluster import KMeans\n",
    "\n",
    "print('Libraries imported.')"
   ]
  },
  {
   "cell_type": "markdown",
   "metadata": {},
   "source": [
    "### Reading data from Wikipedia (see Task 1 for details)"
   ]
  },
  {
   "cell_type": "code",
   "execution_count": 5,
   "metadata": {},
   "outputs": [
    {
     "name": "stdout",
     "output_type": "stream",
     "text": [
      "There are 103 assigned postal codes distributed throughout the 10 boroughs of Toronto.\n"
     ]
    }
   ],
   "source": [
    "raw_data = pd.read_html('http://en.wikipedia.org/wiki/List_of_postal_codes_of_Canada:_M')\n",
    "df = raw_data[0]\n",
    "df=df[df.Borough!='Not assigned']\n",
    "df.reset_index(drop=True,inplace=True)\n",
    "print('There are {} assigned postal codes distributed throughout the {} boroughs of Toronto.'.format(len(df),str(len(df['Borough'].unique()))))"
   ]
  },
  {
   "cell_type": "markdown",
   "metadata": {},
   "source": [
    "### Importing geodata of neighborhodds (see Task 2 for details)"
   ]
  },
  {
   "cell_type": "code",
   "execution_count": 10,
   "metadata": {},
   "outputs": [
    {
     "data": {
      "text/html": [
       "<div>\n",
       "<style scoped>\n",
       "    .dataframe tbody tr th:only-of-type {\n",
       "        vertical-align: middle;\n",
       "    }\n",
       "\n",
       "    .dataframe tbody tr th {\n",
       "        vertical-align: top;\n",
       "    }\n",
       "\n",
       "    .dataframe thead th {\n",
       "        text-align: right;\n",
       "    }\n",
       "</style>\n",
       "<table border=\"1\" class=\"dataframe\">\n",
       "  <thead>\n",
       "    <tr style=\"text-align: right;\">\n",
       "      <th></th>\n",
       "      <th>Postal Code</th>\n",
       "      <th>Borough</th>\n",
       "      <th>Neighborhood</th>\n",
       "      <th>latitude</th>\n",
       "      <th>longitude</th>\n",
       "    </tr>\n",
       "  </thead>\n",
       "  <tbody>\n",
       "    <tr>\n",
       "      <th>0</th>\n",
       "      <td>M3A</td>\n",
       "      <td>North York</td>\n",
       "      <td>Parkwoods</td>\n",
       "      <td>43.751881</td>\n",
       "      <td>-79.330360</td>\n",
       "    </tr>\n",
       "    <tr>\n",
       "      <th>1</th>\n",
       "      <td>M4A</td>\n",
       "      <td>North York</td>\n",
       "      <td>Victoria Village</td>\n",
       "      <td>43.730419</td>\n",
       "      <td>-79.312820</td>\n",
       "    </tr>\n",
       "    <tr>\n",
       "      <th>2</th>\n",
       "      <td>M5A</td>\n",
       "      <td>Downtown Toronto</td>\n",
       "      <td>Regent Park, Harbourfront</td>\n",
       "      <td>43.655140</td>\n",
       "      <td>-79.362648</td>\n",
       "    </tr>\n",
       "    <tr>\n",
       "      <th>3</th>\n",
       "      <td>M6A</td>\n",
       "      <td>North York</td>\n",
       "      <td>Lawrence Manor, Lawrence Heights</td>\n",
       "      <td>43.723209</td>\n",
       "      <td>-79.451408</td>\n",
       "    </tr>\n",
       "    <tr>\n",
       "      <th>4</th>\n",
       "      <td>M7A</td>\n",
       "      <td>Downtown Toronto</td>\n",
       "      <td>Queen's Park, Ontario Provincial Government</td>\n",
       "      <td>43.664490</td>\n",
       "      <td>-79.393021</td>\n",
       "    </tr>\n",
       "  </tbody>\n",
       "</table>\n",
       "</div>"
      ],
      "text/plain": [
       "  Postal Code           Borough                                 Neighborhood  \\\n",
       "0         M3A        North York                                    Parkwoods   \n",
       "1         M4A        North York                             Victoria Village   \n",
       "2         M5A  Downtown Toronto                    Regent Park, Harbourfront   \n",
       "3         M6A        North York             Lawrence Manor, Lawrence Heights   \n",
       "4         M7A  Downtown Toronto  Queen's Park, Ontario Provincial Government   \n",
       "\n",
       "    latitude  longitude  \n",
       "0  43.751881 -79.330360  \n",
       "1  43.730419 -79.312820  \n",
       "2  43.655140 -79.362648  \n",
       "3  43.723209 -79.451408  \n",
       "4  43.664490 -79.393021  "
      ]
     },
     "execution_count": 10,
     "metadata": {},
     "output_type": "execute_result"
    }
   ],
   "source": [
    "bing_API = '' # add your bing API key if you have one\n",
    "df_coords = pd.DataFrame({'Postal Code': [], 'latitude' : [], 'longitude' : []})\n",
    "for pc in df['Postal Code']:\n",
    "    g = geocoder.bing(pc+', Toronto, Ontario',key=bing_API)\n",
    "    c = pd.DataFrame({'Postal Code': [pc], 'latitude' : [g.lat], 'longitude' : [g.lng]})\n",
    "    df_coords = df_coords.append(c)\n",
    "merge_df = pd.merge(df,df_coords,on='Postal Code')\n",
    "merge_df.head()\n"
   ]
  },
  {
   "cell_type": "markdown",
   "metadata": {},
   "source": [
    "### Preparing a dataframe for clustering\n",
    "From the merged data frame, data for all boroughs with names including Toronto explicitly will be extracted to be subsequently investigated."
   ]
  },
  {
   "cell_type": "code",
   "execution_count": 28,
   "metadata": {},
   "outputs": [
    {
     "data": {
      "text/html": [
       "<div>\n",
       "<style scoped>\n",
       "    .dataframe tbody tr th:only-of-type {\n",
       "        vertical-align: middle;\n",
       "    }\n",
       "\n",
       "    .dataframe tbody tr th {\n",
       "        vertical-align: top;\n",
       "    }\n",
       "\n",
       "    .dataframe thead th {\n",
       "        text-align: right;\n",
       "    }\n",
       "</style>\n",
       "<table border=\"1\" class=\"dataframe\">\n",
       "  <thead>\n",
       "    <tr style=\"text-align: right;\">\n",
       "      <th></th>\n",
       "      <th>Postal Code</th>\n",
       "      <th>Borough</th>\n",
       "      <th>Neighborhood</th>\n",
       "      <th>latitude</th>\n",
       "      <th>longitude</th>\n",
       "    </tr>\n",
       "  </thead>\n",
       "  <tbody>\n",
       "    <tr>\n",
       "      <th>0</th>\n",
       "      <td>M5A</td>\n",
       "      <td>Downtown Toronto</td>\n",
       "      <td>Regent Park, Harbourfront</td>\n",
       "      <td>43.655140</td>\n",
       "      <td>-79.362648</td>\n",
       "    </tr>\n",
       "    <tr>\n",
       "      <th>1</th>\n",
       "      <td>M7A</td>\n",
       "      <td>Downtown Toronto</td>\n",
       "      <td>Queen's Park, Ontario Provincial Government</td>\n",
       "      <td>43.664490</td>\n",
       "      <td>-79.393021</td>\n",
       "    </tr>\n",
       "    <tr>\n",
       "      <th>2</th>\n",
       "      <td>M5B</td>\n",
       "      <td>Downtown Toronto</td>\n",
       "      <td>Garden District, Ryerson</td>\n",
       "      <td>43.657360</td>\n",
       "      <td>-79.378181</td>\n",
       "    </tr>\n",
       "    <tr>\n",
       "      <th>3</th>\n",
       "      <td>M5C</td>\n",
       "      <td>Downtown Toronto</td>\n",
       "      <td>St. James Town</td>\n",
       "      <td>43.651428</td>\n",
       "      <td>-79.375572</td>\n",
       "    </tr>\n",
       "    <tr>\n",
       "      <th>4</th>\n",
       "      <td>M4E</td>\n",
       "      <td>East Toronto</td>\n",
       "      <td>The Beaches</td>\n",
       "      <td>43.677029</td>\n",
       "      <td>-79.295418</td>\n",
       "    </tr>\n",
       "  </tbody>\n",
       "</table>\n",
       "</div>"
      ],
      "text/plain": [
       "  Postal Code           Borough                                 Neighborhood  \\\n",
       "0         M5A  Downtown Toronto                    Regent Park, Harbourfront   \n",
       "1         M7A  Downtown Toronto  Queen's Park, Ontario Provincial Government   \n",
       "2         M5B  Downtown Toronto                     Garden District, Ryerson   \n",
       "3         M5C  Downtown Toronto                               St. James Town   \n",
       "4         M4E      East Toronto                                  The Beaches   \n",
       "\n",
       "    latitude  longitude  \n",
       "0  43.655140 -79.362648  \n",
       "1  43.664490 -79.393021  \n",
       "2  43.657360 -79.378181  \n",
       "3  43.651428 -79.375572  \n",
       "4  43.677029 -79.295418  "
      ]
     },
     "execution_count": 28,
     "metadata": {},
     "output_type": "execute_result"
    }
   ],
   "source": [
    "tor_data = merge_df[merge_df.Borough.str.contains('Toronto')] # Creates a data frame with data only from Downtown\n",
    "tor_data.reset_index(drop=True,inplace=True) # Re-sets the indices from the original data frame to 0 through n\n",
    "tor_data.head()"
   ]
  },
  {
   "cell_type": "code",
   "execution_count": 29,
   "metadata": {},
   "outputs": [
    {
     "name": "stdout",
     "output_type": "stream",
     "text": [
      "39 neighborhoods in 4 boroughs will be analysed.\n"
     ]
    }
   ],
   "source": [
    "print('{} neighborhoods in {} boroughs will be analysed.'.format(len(tor_data),str(len(tor_data['Borough'].unique()))))"
   ]
  },
  {
   "cell_type": "markdown",
   "metadata": {},
   "source": [
    "Let's have a look at how these neighborhoods are distributed geographically. To this end a map of Toronto with markers for the neighborhoods will be created. First, the coordinates of Toronto will be extracted."
   ]
  },
  {
   "cell_type": "code",
   "execution_count": 31,
   "metadata": {},
   "outputs": [
    {
     "name": "stdout",
     "output_type": "stream",
     "text": [
      "The geograpical coordinates of Toronto are 43.64868927001953, -79.38543701171875.\n"
     ]
    }
   ],
   "source": [
    "t = geocoder.bing('Toronto, Ontario',key=bing_API)\n",
    "print('The geograpical coordinates of Toronto are {}, {}.'.format(t.lat,t.lng))"
   ]
  },
  {
   "cell_type": "markdown",
   "metadata": {},
   "source": [
    "Now, a map will be created."
   ]
  },
  {
   "cell_type": "code",
   "execution_count": 44,
   "metadata": {},
   "outputs": [
    {
     "data": {
      "text/html": [
       "<div style=\"width:100%;\"><div style=\"position:relative;width:100%;height:0;padding-bottom:60%;\"><span style=\"color:#565656\">Make this Notebook Trusted to load map: File -> Trust Notebook</span><iframe src=\"about:blank\" style=\"position:absolute;width:100%;height:100%;left:0;top:0;border:none !important;\" data-html=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 onload=\"this.contentDocument.open();this.contentDocument.write(atob(this.getAttribute('data-html')));this.contentDocument.close();\" allowfullscreen webkitallowfullscreen mozallowfullscreen></iframe></div></div>"
      ],
      "text/plain": [
       "<folium.folium.Map at 0x7fbb85cf3550>"
      ]
     },
     "execution_count": 44,
     "metadata": {},
     "output_type": "execute_result"
    }
   ],
   "source": [
    "# create map of Toronto using latitude and longitude values\n",
    "map_toronto = folium.Map(location=[t.lat, t.lng], zoom_start=12)\n",
    "# add markers to map\n",
    "for lat, lng, label in zip(tor_data['latitude'], tor_data['longitude'], tor_data['Neighborhood']):\n",
    "    label = folium.Popup(label, parse_html=True)\n",
    "    folium.CircleMarker(\n",
    "        [lat, lng],\n",
    "        radius=5,\n",
    "        popup=label,\n",
    "        color='blue',\n",
    "        fill=True,\n",
    "        fill_color='#3186cc',\n",
    "        fill_opacity=0.7,\n",
    "        parse_html=False).add_to(map_toronto)  \n",
    "map_toronto"
   ]
  },
  {
   "cell_type": "markdown",
   "metadata": {},
   "source": [
    "### Clustering of the neighborhoods\n",
    "The following block of code will follow the lab on the clustering of neighborhoods in Manhatten.\n",
    "#### Scraping data for each neighborhood using Foursquare"
   ]
  },
  {
   "cell_type": "code",
   "execution_count": 38,
   "metadata": {},
   "outputs": [
    {
     "name": "stdout",
     "output_type": "stream",
     "text": [
      "Your credentails:\n",
      "CLIENT_ID: VP5K2R0IUFG0PNIMBLUUWCTYLIN0VI12LYNPFIE05JSVQFTB\n",
      "CLIENT_SECRET:R3MJF1YNU32BE1IMON1H0DCWI3K0QKKYLHXV0WV3ZVLS21GP\n"
     ]
    }
   ],
   "source": [
    "#Input your Foursquare credentials!\n",
    "CLIENT_ID = '' # your Foursquare ID\n",
    "CLIENT_SECRET = '' # your Foursquare Secret\n",
    "VERSION = '20200517' # Foursquare API version\n",
    "LIMIT=100\n",
    "\n",
    "print('Your credentails:')\n",
    "print('CLIENT_ID: ' + CLIENT_ID)\n",
    "print('CLIENT_SECRET:' + CLIENT_SECRET)"
   ]
  },
  {
   "cell_type": "markdown",
   "metadata": {},
   "source": [
    "The following code defines a function that looks up venues in a defined radius around a coordinate. Since the neighborhoods are quite small, the radius as set to 500 m."
   ]
  },
  {
   "cell_type": "code",
   "execution_count": 51,
   "metadata": {},
   "outputs": [],
   "source": [
    "def getNearbyVenues(names, latitudes, longitudes, radius=500):\n",
    "    \n",
    "    venues_list=[]\n",
    "    for name, lat, lng in zip(names, latitudes, longitudes):\n",
    "        print(name)\n",
    "            \n",
    "        # create the API request URL\n",
    "        url = 'https://api.foursquare.com/v2/venues/explore?&client_id={}&client_secret={}&v={}&ll={},{}&radius={}&limit={}'.format(\n",
    "            CLIENT_ID,CLIENT_SECRET,VERSION,lat,lng,radius,LIMIT)\n",
    "            \n",
    "        # make the GET request\n",
    "        results = requests.get(url).json()[\"response\"]['groups'][0]['items']\n",
    "        \n",
    "        # return only relevant information for each nearby venue\n",
    "        venues_list.append([(name,lat,lng, \n",
    "            v['venue']['name'], \n",
    "            v['venue']['location']['lat'], \n",
    "            v['venue']['location']['lng'],  \n",
    "            v['venue']['categories'][0]['name']) for v in results])\n",
    "\n",
    "    nearby_venues = pd.DataFrame([item for venue_list in venues_list for item in venue_list])\n",
    "    nearby_venues.columns = ['Neighborhood', \n",
    "                  'Neighborhood Latitude', \n",
    "                  'Neighborhood Longitude', \n",
    "                  'Venue', \n",
    "                  'Venue Latitude', \n",
    "                  'Venue Longitude', \n",
    "                  'Venue Category']\n",
    "    \n",
    "    return(nearby_venues)"
   ]
  },
  {
   "cell_type": "markdown",
   "metadata": {},
   "source": [
    "The function is now called for all defined neighborhoods."
   ]
  },
  {
   "cell_type": "code",
   "execution_count": 52,
   "metadata": {},
   "outputs": [
    {
     "name": "stdout",
     "output_type": "stream",
     "text": [
      "Regent Park, Harbourfront\n",
      "Queen's Park, Ontario Provincial Government\n",
      "Garden District, Ryerson\n",
      "St. James Town\n",
      "The Beaches\n",
      "Berczy Park\n",
      "Central Bay Street\n",
      "Christie\n",
      "Richmond, Adelaide, King\n",
      "Dufferin, Dovercourt Village\n",
      "Harbourfront East, Union Station, Toronto Islands\n",
      "Little Portugal, Trinity\n",
      "The Danforth West, Riverdale\n",
      "Toronto Dominion Centre, Design Exchange\n",
      "Brockton, Parkdale Village, Exhibition Place\n",
      "India Bazaar, The Beaches West\n",
      "Commerce Court, Victoria Hotel\n",
      "Studio District\n",
      "Lawrence Park\n",
      "Roselawn\n",
      "Davisville North\n",
      "Forest Hill North & West\n",
      "High Park, The Junction South\n",
      "North Toronto West\n",
      "The Annex, North Midtown, Yorkville\n",
      "Parkdale, Roncesvalles\n",
      "Davisville\n",
      "University of Toronto, Harbord\n",
      "Runnymede, Swansea\n",
      "Moore Park, Summerhill East\n",
      "Kensington Market, Chinatown, Grange Park\n",
      "Summerhill West, Rathnelly, South Hill, Forest Hill SE, Deer Park\n",
      "CN Tower, King and Spadina, Railway Lands, Harbourfront West, Bathurst Quay, South Niagara, Island airport\n",
      "Rosedale\n",
      "Stn A PO Boxes\n",
      "St. James Town, Cabbagetown\n",
      "First Canadian Place, Underground city\n",
      "Church and Wellesley\n",
      "Business reply mail Processing Centre\n"
     ]
    }
   ],
   "source": [
    "toronto_venues = getNearbyVenues(names=tor_data['Neighborhood'],\n",
    "                                   latitudes=tor_data['latitude'],\n",
    "                                   longitudes=tor_data['longitude']\n",
    "                                  )"
   ]
  },
  {
   "cell_type": "code",
   "execution_count": 53,
   "metadata": {},
   "outputs": [
    {
     "name": "stdout",
     "output_type": "stream",
     "text": [
      "1715 venues were found in the analysed 39 neighborhoods.\n",
      "There are 219 unique categories.\n"
     ]
    }
   ],
   "source": [
    "print('{} venues were found in the analysed {} neighborhoods.'.format(len(toronto_venues),len(tor_data)))\n",
    "print('There are {} unique categories.'.format(len(toronto_venues['Venue Category'].unique())))"
   ]
  },
  {
   "cell_type": "markdown",
   "metadata": {},
   "source": [
    "Next, we are going to analyse the neighborhoods by counting the occurences of each type of venue in a neighborhood and calculating their frequency."
   ]
  },
  {
   "cell_type": "code",
   "execution_count": 54,
   "metadata": {},
   "outputs": [],
   "source": [
    "# one hot encoding\n",
    "toronto_onehot = pd.get_dummies(toronto_venues[['Venue Category']], prefix=\"\", prefix_sep=\"\")\n",
    "\n",
    "# add neighborhood column back to dataframe\n",
    "toronto_onehot['Neighborhood'] = toronto_venues['Neighborhood'] \n",
    "\n",
    "# move neighborhood column to the first column\n",
    "fixed_columns = [toronto_onehot.columns[-1]] + list(toronto_onehot.columns[:-1])\n",
    "toronto_onehot = toronto_onehot[fixed_columns]\n",
    "toronto_grouped = toronto_onehot.groupby('Neighborhood').mean().reset_index()"
   ]
  },
  {
   "cell_type": "markdown",
   "metadata": {},
   "source": [
    "Following the lab, I will now create a dataframe with the top 10 venues of each neighborhood. First, the function is defined, then it is called."
   ]
  },
  {
   "cell_type": "code",
   "execution_count": 55,
   "metadata": {},
   "outputs": [],
   "source": [
    "def return_most_common_venues(row, num_top_venues):\n",
    "    row_categories = row.iloc[1:]\n",
    "    row_categories_sorted = row_categories.sort_values(ascending=False)\n",
    "    \n",
    "    return row_categories_sorted.index.values[0:num_top_venues]"
   ]
  },
  {
   "cell_type": "code",
   "execution_count": 160,
   "metadata": {},
   "outputs": [
    {
     "data": {
      "text/html": [
       "<div>\n",
       "<style scoped>\n",
       "    .dataframe tbody tr th:only-of-type {\n",
       "        vertical-align: middle;\n",
       "    }\n",
       "\n",
       "    .dataframe tbody tr th {\n",
       "        vertical-align: top;\n",
       "    }\n",
       "\n",
       "    .dataframe thead th {\n",
       "        text-align: right;\n",
       "    }\n",
       "</style>\n",
       "<table border=\"1\" class=\"dataframe\">\n",
       "  <thead>\n",
       "    <tr style=\"text-align: right;\">\n",
       "      <th></th>\n",
       "      <th>Neighborhood</th>\n",
       "      <th>1st Most Common Venue</th>\n",
       "      <th>2nd Most Common Venue</th>\n",
       "      <th>3rd Most Common Venue</th>\n",
       "      <th>4th Most Common Venue</th>\n",
       "      <th>5th Most Common Venue</th>\n",
       "      <th>6th Most Common Venue</th>\n",
       "      <th>7th Most Common Venue</th>\n",
       "      <th>8th Most Common Venue</th>\n",
       "      <th>9th Most Common Venue</th>\n",
       "      <th>10th Most Common Venue</th>\n",
       "    </tr>\n",
       "  </thead>\n",
       "  <tbody>\n",
       "    <tr>\n",
       "      <th>0</th>\n",
       "      <td>Berczy Park</td>\n",
       "      <td>Coffee Shop</td>\n",
       "      <td>Restaurant</td>\n",
       "      <td>Seafood Restaurant</td>\n",
       "      <td>Cocktail Bar</td>\n",
       "      <td>Breakfast Spot</td>\n",
       "      <td>Café</td>\n",
       "      <td>Lounge</td>\n",
       "      <td>Bakery</td>\n",
       "      <td>Beer Bar</td>\n",
       "      <td>Hotel</td>\n",
       "    </tr>\n",
       "    <tr>\n",
       "      <th>1</th>\n",
       "      <td>Brockton, Parkdale Village, Exhibition Place</td>\n",
       "      <td>Café</td>\n",
       "      <td>Coffee Shop</td>\n",
       "      <td>Restaurant</td>\n",
       "      <td>Bar</td>\n",
       "      <td>Lounge</td>\n",
       "      <td>Gift Shop</td>\n",
       "      <td>Sandwich Place</td>\n",
       "      <td>Japanese Restaurant</td>\n",
       "      <td>Breakfast Spot</td>\n",
       "      <td>Nightclub</td>\n",
       "    </tr>\n",
       "    <tr>\n",
       "      <th>2</th>\n",
       "      <td>Business reply mail Processing Centre</td>\n",
       "      <td>Coffee Shop</td>\n",
       "      <td>Hotel</td>\n",
       "      <td>Restaurant</td>\n",
       "      <td>Café</td>\n",
       "      <td>Japanese Restaurant</td>\n",
       "      <td>Concert Hall</td>\n",
       "      <td>Gym</td>\n",
       "      <td>Bar</td>\n",
       "      <td>Steakhouse</td>\n",
       "      <td>Italian Restaurant</td>\n",
       "    </tr>\n",
       "    <tr>\n",
       "      <th>3</th>\n",
       "      <td>CN Tower, King and Spadina, Railway Lands, Har...</td>\n",
       "      <td>Coffee Shop</td>\n",
       "      <td>Italian Restaurant</td>\n",
       "      <td>Café</td>\n",
       "      <td>Restaurant</td>\n",
       "      <td>Bar</td>\n",
       "      <td>Gym / Fitness Center</td>\n",
       "      <td>Speakeasy</td>\n",
       "      <td>Sandwich Place</td>\n",
       "      <td>Electronics Store</td>\n",
       "      <td>Bakery</td>\n",
       "    </tr>\n",
       "    <tr>\n",
       "      <th>4</th>\n",
       "      <td>Central Bay Street</td>\n",
       "      <td>Coffee Shop</td>\n",
       "      <td>Clothing Store</td>\n",
       "      <td>Middle Eastern Restaurant</td>\n",
       "      <td>Cosmetics Shop</td>\n",
       "      <td>Bubble Tea Shop</td>\n",
       "      <td>Plaza</td>\n",
       "      <td>Sandwich Place</td>\n",
       "      <td>Hotel</td>\n",
       "      <td>Restaurant</td>\n",
       "      <td>Café</td>\n",
       "    </tr>\n",
       "  </tbody>\n",
       "</table>\n",
       "</div>"
      ],
      "text/plain": [
       "                                        Neighborhood 1st Most Common Venue  \\\n",
       "0                                        Berczy Park           Coffee Shop   \n",
       "1       Brockton, Parkdale Village, Exhibition Place                  Café   \n",
       "2              Business reply mail Processing Centre           Coffee Shop   \n",
       "3  CN Tower, King and Spadina, Railway Lands, Har...           Coffee Shop   \n",
       "4                                 Central Bay Street           Coffee Shop   \n",
       "\n",
       "  2nd Most Common Venue      3rd Most Common Venue 4th Most Common Venue  \\\n",
       "0            Restaurant         Seafood Restaurant          Cocktail Bar   \n",
       "1           Coffee Shop                 Restaurant                   Bar   \n",
       "2                 Hotel                 Restaurant                  Café   \n",
       "3    Italian Restaurant                       Café            Restaurant   \n",
       "4        Clothing Store  Middle Eastern Restaurant        Cosmetics Shop   \n",
       "\n",
       "  5th Most Common Venue 6th Most Common Venue 7th Most Common Venue  \\\n",
       "0        Breakfast Spot                  Café                Lounge   \n",
       "1                Lounge             Gift Shop        Sandwich Place   \n",
       "2   Japanese Restaurant          Concert Hall                   Gym   \n",
       "3                   Bar  Gym / Fitness Center             Speakeasy   \n",
       "4       Bubble Tea Shop                 Plaza        Sandwich Place   \n",
       "\n",
       "  8th Most Common Venue 9th Most Common Venue 10th Most Common Venue  \n",
       "0                Bakery              Beer Bar                  Hotel  \n",
       "1   Japanese Restaurant        Breakfast Spot              Nightclub  \n",
       "2                   Bar            Steakhouse     Italian Restaurant  \n",
       "3        Sandwich Place     Electronics Store                 Bakery  \n",
       "4                 Hotel            Restaurant                   Café  "
      ]
     },
     "execution_count": 160,
     "metadata": {},
     "output_type": "execute_result"
    }
   ],
   "source": [
    "num_top_venues = 10\n",
    "\n",
    "indicators = ['st', 'nd', 'rd']\n",
    "\n",
    "# create columns according to number of top venues\n",
    "columns = ['Neighborhood']\n",
    "for ind in np.arange(num_top_venues):\n",
    "    try:\n",
    "        columns.append('{}{} Most Common Venue'.format(ind+1, indicators[ind]))\n",
    "    except:\n",
    "        columns.append('{}th Most Common Venue'.format(ind+1))\n",
    "\n",
    "# create a new dataframe\n",
    "neighborhoods_venues_sorted = pd.DataFrame(columns=columns)\n",
    "neighborhoods_venues_sorted['Neighborhood'] = toronto_grouped['Neighborhood']\n",
    "\n",
    "for ind in np.arange(toronto_grouped.shape[0]):\n",
    "    neighborhoods_venues_sorted.iloc[ind, 1:] = return_most_common_venues(toronto_grouped.iloc[ind, :], num_top_venues)\n",
    "\n",
    "neighborhoods_venues_sorted.head()"
   ]
  },
  {
   "cell_type": "markdown",
   "metadata": {},
   "source": [
    "### Clustering the neighborhoods\n",
    "Now that the venues in the neighborhoods have been identified and their frequency has been calculated, we can start clustering them using kmeans."
   ]
  },
  {
   "cell_type": "code",
   "execution_count": 165,
   "metadata": {},
   "outputs": [
    {
     "data": {
      "text/plain": [
       "array([1, 1, 1, 1, 1, 1, 1, 1, 1, 4], dtype=int32)"
      ]
     },
     "execution_count": 165,
     "metadata": {},
     "output_type": "execute_result"
    }
   ],
   "source": [
    "# set number of clusters\n",
    "kclusters = 5\n",
    "\n",
    "toronto_grouped_clustering = toronto_grouped.drop('Neighborhood', 1)\n",
    "\n",
    "# run k-means clustering\n",
    "kmeans = KMeans(n_clusters=kclusters, random_state=0).fit(toronto_grouped_clustering)\n",
    "\n",
    "# check cluster labels generated for each row in the dataframe\n",
    "kmeans.labels_[0:10] \n"
   ]
  },
  {
   "cell_type": "code",
   "execution_count": 166,
   "metadata": {},
   "outputs": [
    {
     "ename": "ValueError",
     "evalue": "cannot insert Cluster Labels, already exists",
     "output_type": "error",
     "traceback": [
      "\u001b[0;31m---------------------------------------------------------------------------\u001b[0m",
      "\u001b[0;31mValueError\u001b[0m                                Traceback (most recent call last)",
      "\u001b[0;32m<ipython-input-166-46d37d658f5a>\u001b[0m in \u001b[0;36m<module>\u001b[0;34m\u001b[0m\n\u001b[1;32m      1\u001b[0m \u001b[0;31m# add clustering labels\u001b[0m\u001b[0;34m\u001b[0m\u001b[0;34m\u001b[0m\u001b[0;34m\u001b[0m\u001b[0m\n\u001b[0;32m----> 2\u001b[0;31m \u001b[0mneighborhoods_venues_sorted\u001b[0m\u001b[0;34m.\u001b[0m\u001b[0minsert\u001b[0m\u001b[0;34m(\u001b[0m\u001b[0;36m0\u001b[0m\u001b[0;34m,\u001b[0m \u001b[0;34m'Cluster Labels'\u001b[0m\u001b[0;34m,\u001b[0m \u001b[0mkmeans\u001b[0m\u001b[0;34m.\u001b[0m\u001b[0mlabels_\u001b[0m\u001b[0;34m)\u001b[0m\u001b[0;34m\u001b[0m\u001b[0;34m\u001b[0m\u001b[0m\n\u001b[0m",
      "\u001b[0;32m~/.local/lib/python3.8/site-packages/pandas/core/frame.py\u001b[0m in \u001b[0;36minsert\u001b[0;34m(self, loc, column, value, allow_duplicates)\u001b[0m\n\u001b[1;32m   3494\u001b[0m         \u001b[0mself\u001b[0m\u001b[0;34m.\u001b[0m\u001b[0m_ensure_valid_index\u001b[0m\u001b[0;34m(\u001b[0m\u001b[0mvalue\u001b[0m\u001b[0;34m)\u001b[0m\u001b[0;34m\u001b[0m\u001b[0;34m\u001b[0m\u001b[0m\n\u001b[1;32m   3495\u001b[0m         \u001b[0mvalue\u001b[0m \u001b[0;34m=\u001b[0m \u001b[0mself\u001b[0m\u001b[0;34m.\u001b[0m\u001b[0m_sanitize_column\u001b[0m\u001b[0;34m(\u001b[0m\u001b[0mcolumn\u001b[0m\u001b[0;34m,\u001b[0m \u001b[0mvalue\u001b[0m\u001b[0;34m,\u001b[0m \u001b[0mbroadcast\u001b[0m\u001b[0;34m=\u001b[0m\u001b[0;32mFalse\u001b[0m\u001b[0;34m)\u001b[0m\u001b[0;34m\u001b[0m\u001b[0;34m\u001b[0m\u001b[0m\n\u001b[0;32m-> 3496\u001b[0;31m         \u001b[0mself\u001b[0m\u001b[0;34m.\u001b[0m\u001b[0m_data\u001b[0m\u001b[0;34m.\u001b[0m\u001b[0minsert\u001b[0m\u001b[0;34m(\u001b[0m\u001b[0mloc\u001b[0m\u001b[0;34m,\u001b[0m \u001b[0mcolumn\u001b[0m\u001b[0;34m,\u001b[0m \u001b[0mvalue\u001b[0m\u001b[0;34m,\u001b[0m \u001b[0mallow_duplicates\u001b[0m\u001b[0;34m=\u001b[0m\u001b[0mallow_duplicates\u001b[0m\u001b[0;34m)\u001b[0m\u001b[0;34m\u001b[0m\u001b[0;34m\u001b[0m\u001b[0m\n\u001b[0m\u001b[1;32m   3497\u001b[0m \u001b[0;34m\u001b[0m\u001b[0m\n\u001b[1;32m   3498\u001b[0m     \u001b[0;32mdef\u001b[0m \u001b[0massign\u001b[0m\u001b[0;34m(\u001b[0m\u001b[0mself\u001b[0m\u001b[0;34m,\u001b[0m \u001b[0;34m**\u001b[0m\u001b[0mkwargs\u001b[0m\u001b[0;34m)\u001b[0m \u001b[0;34m->\u001b[0m \u001b[0;34m\"DataFrame\"\u001b[0m\u001b[0;34m:\u001b[0m\u001b[0;34m\u001b[0m\u001b[0;34m\u001b[0m\u001b[0m\n",
      "\u001b[0;32m~/.local/lib/python3.8/site-packages/pandas/core/internals/managers.py\u001b[0m in \u001b[0;36minsert\u001b[0;34m(self, loc, item, value, allow_duplicates)\u001b[0m\n\u001b[1;32m   1171\u001b[0m         \u001b[0;32mif\u001b[0m \u001b[0;32mnot\u001b[0m \u001b[0mallow_duplicates\u001b[0m \u001b[0;32mand\u001b[0m \u001b[0mitem\u001b[0m \u001b[0;32min\u001b[0m \u001b[0mself\u001b[0m\u001b[0;34m.\u001b[0m\u001b[0mitems\u001b[0m\u001b[0;34m:\u001b[0m\u001b[0;34m\u001b[0m\u001b[0;34m\u001b[0m\u001b[0m\n\u001b[1;32m   1172\u001b[0m             \u001b[0;31m# Should this be a different kind of error??\u001b[0m\u001b[0;34m\u001b[0m\u001b[0;34m\u001b[0m\u001b[0;34m\u001b[0m\u001b[0m\n\u001b[0;32m-> 1173\u001b[0;31m             \u001b[0;32mraise\u001b[0m \u001b[0mValueError\u001b[0m\u001b[0;34m(\u001b[0m\u001b[0;34mf\"cannot insert {item}, already exists\"\u001b[0m\u001b[0;34m)\u001b[0m\u001b[0;34m\u001b[0m\u001b[0;34m\u001b[0m\u001b[0m\n\u001b[0m\u001b[1;32m   1174\u001b[0m \u001b[0;34m\u001b[0m\u001b[0m\n\u001b[1;32m   1175\u001b[0m         \u001b[0;32mif\u001b[0m \u001b[0;32mnot\u001b[0m \u001b[0misinstance\u001b[0m\u001b[0;34m(\u001b[0m\u001b[0mloc\u001b[0m\u001b[0;34m,\u001b[0m \u001b[0mint\u001b[0m\u001b[0;34m)\u001b[0m\u001b[0;34m:\u001b[0m\u001b[0;34m\u001b[0m\u001b[0;34m\u001b[0m\u001b[0m\n",
      "\u001b[0;31mValueError\u001b[0m: cannot insert Cluster Labels, already exists"
     ]
    }
   ],
   "source": [
    "# add clustering labels\n",
    "neighborhoods_venues_sorted.insert(0, 'Cluster Labels', kmeans.labels_)"
   ]
  },
  {
   "cell_type": "code",
   "execution_count": 167,
   "metadata": {},
   "outputs": [
    {
     "data": {
      "text/html": [
       "<div>\n",
       "<style scoped>\n",
       "    .dataframe tbody tr th:only-of-type {\n",
       "        vertical-align: middle;\n",
       "    }\n",
       "\n",
       "    .dataframe tbody tr th {\n",
       "        vertical-align: top;\n",
       "    }\n",
       "\n",
       "    .dataframe thead th {\n",
       "        text-align: right;\n",
       "    }\n",
       "</style>\n",
       "<table border=\"1\" class=\"dataframe\">\n",
       "  <thead>\n",
       "    <tr style=\"text-align: right;\">\n",
       "      <th></th>\n",
       "      <th>Postal Code</th>\n",
       "      <th>Borough</th>\n",
       "      <th>Neighborhood</th>\n",
       "      <th>latitude</th>\n",
       "      <th>longitude</th>\n",
       "      <th>Cluster Labels</th>\n",
       "      <th>1st Most Common Venue</th>\n",
       "      <th>2nd Most Common Venue</th>\n",
       "      <th>3rd Most Common Venue</th>\n",
       "      <th>4th Most Common Venue</th>\n",
       "      <th>5th Most Common Venue</th>\n",
       "      <th>6th Most Common Venue</th>\n",
       "      <th>7th Most Common Venue</th>\n",
       "      <th>8th Most Common Venue</th>\n",
       "      <th>9th Most Common Venue</th>\n",
       "      <th>10th Most Common Venue</th>\n",
       "    </tr>\n",
       "  </thead>\n",
       "  <tbody>\n",
       "    <tr>\n",
       "      <th>0</th>\n",
       "      <td>M5A</td>\n",
       "      <td>Downtown Toronto</td>\n",
       "      <td>Regent Park, Harbourfront</td>\n",
       "      <td>43.65514</td>\n",
       "      <td>-79.362648</td>\n",
       "      <td>1</td>\n",
       "      <td>Coffee Shop</td>\n",
       "      <td>Restaurant</td>\n",
       "      <td>Breakfast Spot</td>\n",
       "      <td>Yoga Studio</td>\n",
       "      <td>Bakery</td>\n",
       "      <td>Gym / Fitness Center</td>\n",
       "      <td>Italian Restaurant</td>\n",
       "      <td>Food Truck</td>\n",
       "      <td>Event Space</td>\n",
       "      <td>Electronics Store</td>\n",
       "    </tr>\n",
       "    <tr>\n",
       "      <th>1</th>\n",
       "      <td>M7A</td>\n",
       "      <td>Downtown Toronto</td>\n",
       "      <td>Queen's Park, Ontario Provincial Government</td>\n",
       "      <td>43.66449</td>\n",
       "      <td>-79.393021</td>\n",
       "      <td>1</td>\n",
       "      <td>Coffee Shop</td>\n",
       "      <td>Café</td>\n",
       "      <td>Park</td>\n",
       "      <td>Museum</td>\n",
       "      <td>Chinese Restaurant</td>\n",
       "      <td>Sandwich Place</td>\n",
       "      <td>Salon / Barbershop</td>\n",
       "      <td>Restaurant</td>\n",
       "      <td>Clothing Store</td>\n",
       "      <td>Pub</td>\n",
       "    </tr>\n",
       "  </tbody>\n",
       "</table>\n",
       "</div>"
      ],
      "text/plain": [
       "  Postal Code           Borough                                 Neighborhood  \\\n",
       "0         M5A  Downtown Toronto                    Regent Park, Harbourfront   \n",
       "1         M7A  Downtown Toronto  Queen's Park, Ontario Provincial Government   \n",
       "\n",
       "   latitude  longitude  Cluster Labels 1st Most Common Venue  \\\n",
       "0  43.65514 -79.362648               1           Coffee Shop   \n",
       "1  43.66449 -79.393021               1           Coffee Shop   \n",
       "\n",
       "  2nd Most Common Venue 3rd Most Common Venue 4th Most Common Venue  \\\n",
       "0            Restaurant        Breakfast Spot           Yoga Studio   \n",
       "1                  Café                  Park                Museum   \n",
       "\n",
       "  5th Most Common Venue 6th Most Common Venue 7th Most Common Venue  \\\n",
       "0                Bakery  Gym / Fitness Center    Italian Restaurant   \n",
       "1    Chinese Restaurant        Sandwich Place    Salon / Barbershop   \n",
       "\n",
       "  8th Most Common Venue 9th Most Common Venue 10th Most Common Venue  \n",
       "0            Food Truck           Event Space      Electronics Store  \n",
       "1            Restaurant        Clothing Store                    Pub  "
      ]
     },
     "execution_count": 167,
     "metadata": {},
     "output_type": "execute_result"
    }
   ],
   "source": [
    "toronto_merged = tor_data.drop([19]) # this neighborhood returns a NaN for the clustering, leading to float labels.\n",
    "\n",
    "# merge toronto_grouped with toronto_data to add latitude/longitude for each neighborhood\n",
    "toronto_merged = toronto_merged.join(neighborhoods_venues_sorted.set_index('Neighborhood'), on='Neighborhood')\n",
    "toronto_merged.head(2)"
   ]
  },
  {
   "cell_type": "markdown",
   "metadata": {},
   "source": [
    "Now, the data for the neighborhoods is clustered and ready to be put on a map, which will be done in the next step."
   ]
  },
  {
   "cell_type": "code",
   "execution_count": 169,
   "metadata": {},
   "outputs": [
    {
     "data": {
      "text/html": [
       "<div style=\"width:100%;\"><div style=\"position:relative;width:100%;height:0;padding-bottom:60%;\"><span style=\"color:#565656\">Make this Notebook Trusted to load map: File -> Trust Notebook</span><iframe src=\"about:blank\" style=\"position:absolute;width:100%;height:100%;left:0;top:0;border:none !important;\" data-html=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 onload=\"this.contentDocument.open();this.contentDocument.write(atob(this.getAttribute('data-html')));this.contentDocument.close();\" allowfullscreen webkitallowfullscreen mozallowfullscreen></iframe></div></div>"
      ],
      "text/plain": [
       "<folium.folium.Map at 0x7fbb71ecc820>"
      ]
     },
     "execution_count": 169,
     "metadata": {},
     "output_type": "execute_result"
    }
   ],
   "source": [
    "# create map\n",
    "map_clusters = folium.Map(location=[t.lat, t.lng], zoom_start=12)\n",
    "\n",
    "# set color scheme for the clusters\n",
    "x = np.arange(kclusters)\n",
    "ys = [i + x + (i*x)**2 for i in range(kclusters)]\n",
    "colors_array = cm.rainbow(np.linspace(0, 1, len(ys)))\n",
    "rainbow = [colors.rgb2hex(i) for i in colors_array]\n",
    "\n",
    "# add markers to the map\n",
    "markers_colors = []\n",
    "for lat, lon, poi, cluster in zip(toronto_merged['latitude'], toronto_merged['longitude'], toronto_merged['Neighborhood'], toronto_merged['Cluster Labels']):\n",
    "    label = folium.Popup(str(poi) + ' Cluster ' + str(cluster), parse_html=True)\n",
    "    folium.CircleMarker(\n",
    "        [lat, lon],\n",
    "        radius=5,\n",
    "        popup=label,\n",
    "        color=rainbow[cluster-1],\n",
    "        fill=True,\n",
    "        fill_color=rainbow[cluster-1],\n",
    "        fill_opacity=0.7).add_to(map_clusters)\n",
    "       \n",
    "map_clusters"
   ]
  },
  {
   "cell_type": "markdown",
   "metadata": {},
   "source": [
    "After trying mulitple combinations of number of clusters ranging from 3 to 10 and the number of considered venue types from top3 to top20, I came to the conclusion, that the analysed neighborhoods are all very similar. Only a few are parts of other \"clusters\" containing one or two neighborhoods. \n",
    "Let us have a look at how they are distinct from the typical neighborhood in Toronto."
   ]
  },
  {
   "cell_type": "markdown",
   "metadata": {},
   "source": [
    "### Identifying cluster characteristics\n",
    "To identify the characteristics that distinguish the clusters, we will have a look at the top venues in each cluster."
   ]
  },
  {
   "cell_type": "code",
   "execution_count": 171,
   "metadata": {},
   "outputs": [
    {
     "data": {
      "text/html": [
       "<div>\n",
       "<style scoped>\n",
       "    .dataframe tbody tr th:only-of-type {\n",
       "        vertical-align: middle;\n",
       "    }\n",
       "\n",
       "    .dataframe tbody tr th {\n",
       "        vertical-align: top;\n",
       "    }\n",
       "\n",
       "    .dataframe thead th {\n",
       "        text-align: right;\n",
       "    }\n",
       "</style>\n",
       "<table border=\"1\" class=\"dataframe\">\n",
       "  <thead>\n",
       "    <tr style=\"text-align: right;\">\n",
       "      <th></th>\n",
       "      <th>Neighborhood</th>\n",
       "      <th>Cluster Labels</th>\n",
       "      <th>1st Most Common Venue</th>\n",
       "      <th>2nd Most Common Venue</th>\n",
       "      <th>3rd Most Common Venue</th>\n",
       "      <th>4th Most Common Venue</th>\n",
       "      <th>5th Most Common Venue</th>\n",
       "      <th>6th Most Common Venue</th>\n",
       "      <th>7th Most Common Venue</th>\n",
       "      <th>8th Most Common Venue</th>\n",
       "      <th>9th Most Common Venue</th>\n",
       "      <th>10th Most Common Venue</th>\n",
       "    </tr>\n",
       "  </thead>\n",
       "  <tbody>\n",
       "    <tr>\n",
       "      <th>31</th>\n",
       "      <td>Summerhill West, Rathnelly, South Hill, Forest...</td>\n",
       "      <td>0</td>\n",
       "      <td>Coffee Shop</td>\n",
       "      <td>Light Rail Station</td>\n",
       "      <td>Liquor Store</td>\n",
       "      <td>Supermarket</td>\n",
       "      <td>Women's Store</td>\n",
       "      <td>Donut Shop</td>\n",
       "      <td>Fish &amp; Chips Shop</td>\n",
       "      <td>Fast Food Restaurant</td>\n",
       "      <td>Farmers Market</td>\n",
       "      <td>Farm</td>\n",
       "    </tr>\n",
       "  </tbody>\n",
       "</table>\n",
       "</div>"
      ],
      "text/plain": [
       "                                         Neighborhood  Cluster Labels  \\\n",
       "31  Summerhill West, Rathnelly, South Hill, Forest...               0   \n",
       "\n",
       "   1st Most Common Venue 2nd Most Common Venue 3rd Most Common Venue  \\\n",
       "31           Coffee Shop    Light Rail Station          Liquor Store   \n",
       "\n",
       "   4th Most Common Venue 5th Most Common Venue 6th Most Common Venue  \\\n",
       "31           Supermarket         Women's Store            Donut Shop   \n",
       "\n",
       "   7th Most Common Venue 8th Most Common Venue 9th Most Common Venue  \\\n",
       "31     Fish & Chips Shop  Fast Food Restaurant        Farmers Market   \n",
       "\n",
       "   10th Most Common Venue  \n",
       "31                   Farm  "
      ]
     },
     "execution_count": 171,
     "metadata": {},
     "output_type": "execute_result"
    }
   ],
   "source": [
    "toronto_merged.loc[toronto_merged['Cluster Labels'] == 0, toronto_merged.columns[[2] + list(range(5, toronto_merged.shape[1]))]]"
   ]
  },
  {
   "cell_type": "code",
   "execution_count": 173,
   "metadata": {},
   "outputs": [
    {
     "data": {
      "text/html": [
       "<div>\n",
       "<style scoped>\n",
       "    .dataframe tbody tr th:only-of-type {\n",
       "        vertical-align: middle;\n",
       "    }\n",
       "\n",
       "    .dataframe tbody tr th {\n",
       "        vertical-align: top;\n",
       "    }\n",
       "\n",
       "    .dataframe thead th {\n",
       "        text-align: right;\n",
       "    }\n",
       "</style>\n",
       "<table border=\"1\" class=\"dataframe\">\n",
       "  <thead>\n",
       "    <tr style=\"text-align: right;\">\n",
       "      <th></th>\n",
       "      <th>Neighborhood</th>\n",
       "      <th>Cluster Labels</th>\n",
       "      <th>1st Most Common Venue</th>\n",
       "      <th>2nd Most Common Venue</th>\n",
       "      <th>3rd Most Common Venue</th>\n",
       "      <th>4th Most Common Venue</th>\n",
       "      <th>5th Most Common Venue</th>\n",
       "      <th>6th Most Common Venue</th>\n",
       "      <th>7th Most Common Venue</th>\n",
       "      <th>8th Most Common Venue</th>\n",
       "      <th>9th Most Common Venue</th>\n",
       "      <th>10th Most Common Venue</th>\n",
       "    </tr>\n",
       "  </thead>\n",
       "  <tbody>\n",
       "    <tr>\n",
       "      <th>0</th>\n",
       "      <td>Regent Park, Harbourfront</td>\n",
       "      <td>1</td>\n",
       "      <td>Coffee Shop</td>\n",
       "      <td>Restaurant</td>\n",
       "      <td>Breakfast Spot</td>\n",
       "      <td>Yoga Studio</td>\n",
       "      <td>Bakery</td>\n",
       "      <td>Gym / Fitness Center</td>\n",
       "      <td>Italian Restaurant</td>\n",
       "      <td>Food Truck</td>\n",
       "      <td>Event Space</td>\n",
       "      <td>Electronics Store</td>\n",
       "    </tr>\n",
       "    <tr>\n",
       "      <th>1</th>\n",
       "      <td>Queen's Park, Ontario Provincial Government</td>\n",
       "      <td>1</td>\n",
       "      <td>Coffee Shop</td>\n",
       "      <td>Café</td>\n",
       "      <td>Park</td>\n",
       "      <td>Museum</td>\n",
       "      <td>Chinese Restaurant</td>\n",
       "      <td>Sandwich Place</td>\n",
       "      <td>Salon / Barbershop</td>\n",
       "      <td>Restaurant</td>\n",
       "      <td>Clothing Store</td>\n",
       "      <td>Pub</td>\n",
       "    </tr>\n",
       "    <tr>\n",
       "      <th>2</th>\n",
       "      <td>Garden District, Ryerson</td>\n",
       "      <td>1</td>\n",
       "      <td>Coffee Shop</td>\n",
       "      <td>Clothing Store</td>\n",
       "      <td>Middle Eastern Restaurant</td>\n",
       "      <td>Cosmetics Shop</td>\n",
       "      <td>Restaurant</td>\n",
       "      <td>Café</td>\n",
       "      <td>Italian Restaurant</td>\n",
       "      <td>Japanese Restaurant</td>\n",
       "      <td>Bubble Tea Shop</td>\n",
       "      <td>Bookstore</td>\n",
       "    </tr>\n",
       "    <tr>\n",
       "      <th>3</th>\n",
       "      <td>St. James Town</td>\n",
       "      <td>1</td>\n",
       "      <td>Coffee Shop</td>\n",
       "      <td>Café</td>\n",
       "      <td>Seafood Restaurant</td>\n",
       "      <td>Cocktail Bar</td>\n",
       "      <td>American Restaurant</td>\n",
       "      <td>Gastropub</td>\n",
       "      <td>Italian Restaurant</td>\n",
       "      <td>Bakery</td>\n",
       "      <td>Creperie</td>\n",
       "      <td>Cosmetics Shop</td>\n",
       "    </tr>\n",
       "    <tr>\n",
       "      <th>4</th>\n",
       "      <td>The Beaches</td>\n",
       "      <td>1</td>\n",
       "      <td>Health Food Store</td>\n",
       "      <td>Pub</td>\n",
       "      <td>College Gym</td>\n",
       "      <td>Trail</td>\n",
       "      <td>Dog Run</td>\n",
       "      <td>Fish &amp; Chips Shop</td>\n",
       "      <td>Fast Food Restaurant</td>\n",
       "      <td>Farmers Market</td>\n",
       "      <td>Farm</td>\n",
       "      <td>Falafel Restaurant</td>\n",
       "    </tr>\n",
       "  </tbody>\n",
       "</table>\n",
       "</div>"
      ],
      "text/plain": [
       "                                  Neighborhood  Cluster Labels  \\\n",
       "0                    Regent Park, Harbourfront               1   \n",
       "1  Queen's Park, Ontario Provincial Government               1   \n",
       "2                     Garden District, Ryerson               1   \n",
       "3                               St. James Town               1   \n",
       "4                                  The Beaches               1   \n",
       "\n",
       "  1st Most Common Venue 2nd Most Common Venue      3rd Most Common Venue  \\\n",
       "0           Coffee Shop            Restaurant             Breakfast Spot   \n",
       "1           Coffee Shop                  Café                       Park   \n",
       "2           Coffee Shop        Clothing Store  Middle Eastern Restaurant   \n",
       "3           Coffee Shop                  Café         Seafood Restaurant   \n",
       "4     Health Food Store                   Pub                College Gym   \n",
       "\n",
       "  4th Most Common Venue 5th Most Common Venue 6th Most Common Venue  \\\n",
       "0           Yoga Studio                Bakery  Gym / Fitness Center   \n",
       "1                Museum    Chinese Restaurant        Sandwich Place   \n",
       "2        Cosmetics Shop            Restaurant                  Café   \n",
       "3          Cocktail Bar   American Restaurant             Gastropub   \n",
       "4                 Trail               Dog Run     Fish & Chips Shop   \n",
       "\n",
       "  7th Most Common Venue 8th Most Common Venue 9th Most Common Venue  \\\n",
       "0    Italian Restaurant            Food Truck           Event Space   \n",
       "1    Salon / Barbershop            Restaurant        Clothing Store   \n",
       "2    Italian Restaurant   Japanese Restaurant       Bubble Tea Shop   \n",
       "3    Italian Restaurant                Bakery              Creperie   \n",
       "4  Fast Food Restaurant        Farmers Market                  Farm   \n",
       "\n",
       "  10th Most Common Venue  \n",
       "0      Electronics Store  \n",
       "1                    Pub  \n",
       "2              Bookstore  \n",
       "3         Cosmetics Shop  \n",
       "4     Falafel Restaurant  "
      ]
     },
     "execution_count": 173,
     "metadata": {},
     "output_type": "execute_result"
    }
   ],
   "source": [
    "toronto_merged.loc[toronto_merged['Cluster Labels'] == 1, toronto_merged.columns[[2] + list(range(5, toronto_merged.shape[1]))]].head()"
   ]
  },
  {
   "cell_type": "code",
   "execution_count": 174,
   "metadata": {},
   "outputs": [
    {
     "data": {
      "text/html": [
       "<div>\n",
       "<style scoped>\n",
       "    .dataframe tbody tr th:only-of-type {\n",
       "        vertical-align: middle;\n",
       "    }\n",
       "\n",
       "    .dataframe tbody tr th {\n",
       "        vertical-align: top;\n",
       "    }\n",
       "\n",
       "    .dataframe thead th {\n",
       "        text-align: right;\n",
       "    }\n",
       "</style>\n",
       "<table border=\"1\" class=\"dataframe\">\n",
       "  <thead>\n",
       "    <tr style=\"text-align: right;\">\n",
       "      <th></th>\n",
       "      <th>Neighborhood</th>\n",
       "      <th>Cluster Labels</th>\n",
       "      <th>1st Most Common Venue</th>\n",
       "      <th>2nd Most Common Venue</th>\n",
       "      <th>3rd Most Common Venue</th>\n",
       "      <th>4th Most Common Venue</th>\n",
       "      <th>5th Most Common Venue</th>\n",
       "      <th>6th Most Common Venue</th>\n",
       "      <th>7th Most Common Venue</th>\n",
       "      <th>8th Most Common Venue</th>\n",
       "      <th>9th Most Common Venue</th>\n",
       "      <th>10th Most Common Venue</th>\n",
       "    </tr>\n",
       "  </thead>\n",
       "  <tbody>\n",
       "    <tr>\n",
       "      <th>18</th>\n",
       "      <td>Lawrence Park</td>\n",
       "      <td>2</td>\n",
       "      <td>Park</td>\n",
       "      <td>Women's Store</td>\n",
       "      <td>Dog Run</td>\n",
       "      <td>Fish Market</td>\n",
       "      <td>Fish &amp; Chips Shop</td>\n",
       "      <td>Fast Food Restaurant</td>\n",
       "      <td>Farmers Market</td>\n",
       "      <td>Farm</td>\n",
       "      <td>Falafel Restaurant</td>\n",
       "      <td>Event Space</td>\n",
       "    </tr>\n",
       "    <tr>\n",
       "      <th>21</th>\n",
       "      <td>Forest Hill North &amp; West</td>\n",
       "      <td>2</td>\n",
       "      <td>Park</td>\n",
       "      <td>Women's Store</td>\n",
       "      <td>Dog Run</td>\n",
       "      <td>Fish Market</td>\n",
       "      <td>Fish &amp; Chips Shop</td>\n",
       "      <td>Fast Food Restaurant</td>\n",
       "      <td>Farmers Market</td>\n",
       "      <td>Farm</td>\n",
       "      <td>Falafel Restaurant</td>\n",
       "      <td>Event Space</td>\n",
       "    </tr>\n",
       "    <tr>\n",
       "      <th>22</th>\n",
       "      <td>High Park, The Junction South</td>\n",
       "      <td>2</td>\n",
       "      <td>Park</td>\n",
       "      <td>Women's Store</td>\n",
       "      <td>Dog Run</td>\n",
       "      <td>Fish Market</td>\n",
       "      <td>Fish &amp; Chips Shop</td>\n",
       "      <td>Fast Food Restaurant</td>\n",
       "      <td>Farmers Market</td>\n",
       "      <td>Farm</td>\n",
       "      <td>Falafel Restaurant</td>\n",
       "      <td>Event Space</td>\n",
       "    </tr>\n",
       "  </tbody>\n",
       "</table>\n",
       "</div>"
      ],
      "text/plain": [
       "                     Neighborhood  Cluster Labels 1st Most Common Venue  \\\n",
       "18                  Lawrence Park               2                  Park   \n",
       "21       Forest Hill North & West               2                  Park   \n",
       "22  High Park, The Junction South               2                  Park   \n",
       "\n",
       "   2nd Most Common Venue 3rd Most Common Venue 4th Most Common Venue  \\\n",
       "18         Women's Store               Dog Run           Fish Market   \n",
       "21         Women's Store               Dog Run           Fish Market   \n",
       "22         Women's Store               Dog Run           Fish Market   \n",
       "\n",
       "   5th Most Common Venue 6th Most Common Venue 7th Most Common Venue  \\\n",
       "18     Fish & Chips Shop  Fast Food Restaurant        Farmers Market   \n",
       "21     Fish & Chips Shop  Fast Food Restaurant        Farmers Market   \n",
       "22     Fish & Chips Shop  Fast Food Restaurant        Farmers Market   \n",
       "\n",
       "   8th Most Common Venue 9th Most Common Venue 10th Most Common Venue  \n",
       "18                  Farm    Falafel Restaurant            Event Space  \n",
       "21                  Farm    Falafel Restaurant            Event Space  \n",
       "22                  Farm    Falafel Restaurant            Event Space  "
      ]
     },
     "execution_count": 174,
     "metadata": {},
     "output_type": "execute_result"
    }
   ],
   "source": [
    "toronto_merged.loc[toronto_merged['Cluster Labels'] == 2, toronto_merged.columns[[2] + list(range(5, toronto_merged.shape[1]))]]"
   ]
  },
  {
   "cell_type": "code",
   "execution_count": 175,
   "metadata": {},
   "outputs": [
    {
     "data": {
      "text/html": [
       "<div>\n",
       "<style scoped>\n",
       "    .dataframe tbody tr th:only-of-type {\n",
       "        vertical-align: middle;\n",
       "    }\n",
       "\n",
       "    .dataframe tbody tr th {\n",
       "        vertical-align: top;\n",
       "    }\n",
       "\n",
       "    .dataframe thead th {\n",
       "        text-align: right;\n",
       "    }\n",
       "</style>\n",
       "<table border=\"1\" class=\"dataframe\">\n",
       "  <thead>\n",
       "    <tr style=\"text-align: right;\">\n",
       "      <th></th>\n",
       "      <th>Neighborhood</th>\n",
       "      <th>Cluster Labels</th>\n",
       "      <th>1st Most Common Venue</th>\n",
       "      <th>2nd Most Common Venue</th>\n",
       "      <th>3rd Most Common Venue</th>\n",
       "      <th>4th Most Common Venue</th>\n",
       "      <th>5th Most Common Venue</th>\n",
       "      <th>6th Most Common Venue</th>\n",
       "      <th>7th Most Common Venue</th>\n",
       "      <th>8th Most Common Venue</th>\n",
       "      <th>9th Most Common Venue</th>\n",
       "      <th>10th Most Common Venue</th>\n",
       "    </tr>\n",
       "  </thead>\n",
       "  <tbody>\n",
       "    <tr>\n",
       "      <th>23</th>\n",
       "      <td>North Toronto West</td>\n",
       "      <td>3</td>\n",
       "      <td>Playground</td>\n",
       "      <td>Gym Pool</td>\n",
       "      <td>Park</td>\n",
       "      <td>Garden</td>\n",
       "      <td>Distribution Center</td>\n",
       "      <td>Fast Food Restaurant</td>\n",
       "      <td>Farmers Market</td>\n",
       "      <td>Farm</td>\n",
       "      <td>Falafel Restaurant</td>\n",
       "      <td>Event Space</td>\n",
       "    </tr>\n",
       "    <tr>\n",
       "      <th>33</th>\n",
       "      <td>Rosedale</td>\n",
       "      <td>3</td>\n",
       "      <td>Playground</td>\n",
       "      <td>Park</td>\n",
       "      <td>Building</td>\n",
       "      <td>Tennis Court</td>\n",
       "      <td>Creperie</td>\n",
       "      <td>Cuban Restaurant</td>\n",
       "      <td>Fast Food Restaurant</td>\n",
       "      <td>Cosmetics Shop</td>\n",
       "      <td>Farmers Market</td>\n",
       "      <td>Farm</td>\n",
       "    </tr>\n",
       "  </tbody>\n",
       "</table>\n",
       "</div>"
      ],
      "text/plain": [
       "          Neighborhood  Cluster Labels 1st Most Common Venue  \\\n",
       "23  North Toronto West               3            Playground   \n",
       "33            Rosedale               3            Playground   \n",
       "\n",
       "   2nd Most Common Venue 3rd Most Common Venue 4th Most Common Venue  \\\n",
       "23              Gym Pool                  Park                Garden   \n",
       "33                  Park              Building          Tennis Court   \n",
       "\n",
       "   5th Most Common Venue 6th Most Common Venue 7th Most Common Venue  \\\n",
       "23   Distribution Center  Fast Food Restaurant        Farmers Market   \n",
       "33              Creperie      Cuban Restaurant  Fast Food Restaurant   \n",
       "\n",
       "   8th Most Common Venue 9th Most Common Venue 10th Most Common Venue  \n",
       "23                  Farm    Falafel Restaurant            Event Space  \n",
       "33        Cosmetics Shop        Farmers Market                   Farm  "
      ]
     },
     "execution_count": 175,
     "metadata": {},
     "output_type": "execute_result"
    }
   ],
   "source": [
    "toronto_merged.loc[toronto_merged['Cluster Labels'] == 3, toronto_merged.columns[[2] + list(range(5, toronto_merged.shape[1]))]]"
   ]
  },
  {
   "cell_type": "code",
   "execution_count": 176,
   "metadata": {},
   "outputs": [
    {
     "data": {
      "text/html": [
       "<div>\n",
       "<style scoped>\n",
       "    .dataframe tbody tr th:only-of-type {\n",
       "        vertical-align: middle;\n",
       "    }\n",
       "\n",
       "    .dataframe tbody tr th {\n",
       "        vertical-align: top;\n",
       "    }\n",
       "\n",
       "    .dataframe thead th {\n",
       "        text-align: right;\n",
       "    }\n",
       "</style>\n",
       "<table border=\"1\" class=\"dataframe\">\n",
       "  <thead>\n",
       "    <tr style=\"text-align: right;\">\n",
       "      <th></th>\n",
       "      <th>Neighborhood</th>\n",
       "      <th>Cluster Labels</th>\n",
       "      <th>1st Most Common Venue</th>\n",
       "      <th>2nd Most Common Venue</th>\n",
       "      <th>3rd Most Common Venue</th>\n",
       "      <th>4th Most Common Venue</th>\n",
       "      <th>5th Most Common Venue</th>\n",
       "      <th>6th Most Common Venue</th>\n",
       "      <th>7th Most Common Venue</th>\n",
       "      <th>8th Most Common Venue</th>\n",
       "      <th>9th Most Common Venue</th>\n",
       "      <th>10th Most Common Venue</th>\n",
       "    </tr>\n",
       "  </thead>\n",
       "  <tbody>\n",
       "  </tbody>\n",
       "</table>\n",
       "</div>"
      ],
      "text/plain": [
       "Empty DataFrame\n",
       "Columns: [Neighborhood, Cluster Labels, 1st Most Common Venue, 2nd Most Common Venue, 3rd Most Common Venue, 4th Most Common Venue, 5th Most Common Venue, 6th Most Common Venue, 7th Most Common Venue, 8th Most Common Venue, 9th Most Common Venue, 10th Most Common Venue]\n",
       "Index: []"
      ]
     },
     "execution_count": 176,
     "metadata": {},
     "output_type": "execute_result"
    }
   ],
   "source": [
    "toronto_merged.loc[toronto_merged['Cluster Labels'] == 4, toronto_merged.columns[[2] + list(range(5, toronto_merged.shape[1]))]]"
   ]
  },
  {
   "cell_type": "markdown",
   "metadata": {},
   "source": [
    "Cluster 2 is very large. Only the first five neighborhoods are shown. The fifth cluster is completely empty.\n",
    "The multiple neighborhoods that are part of the only entry in cluster 1 differ from the rest, by the Railstations.\n",
    "Cluster 2 is dominated by Cafes and Coffee Shops, Pubs and Restaurants. \n",
    "The neighborhoods in cluster 3 are almost identical. They are the light blue entries on the map. It is directly visible that they are not directly connected, which is surprising. \n",
    "Cluster 4 is very similar to cluster 3, but a bit more diverse. The most common venue here are playgrounds, making these areas more suitable for families with children.\n",
    "Cluster 5 as mentioned earlier is empty."
   ]
  },
  {
   "cell_type": "code",
   "execution_count": null,
   "metadata": {},
   "outputs": [],
   "source": []
  },
  {
   "cell_type": "code",
   "execution_count": null,
   "metadata": {},
   "outputs": [],
   "source": []
  }
 ],
 "metadata": {
  "kernelspec": {
   "display_name": "Python 3",
   "language": "python",
   "name": "python3"
  },
  "language_info": {
   "codemirror_mode": {
    "name": "ipython",
    "version": 3
   },
   "file_extension": ".py",
   "mimetype": "text/x-python",
   "name": "python",
   "nbconvert_exporter": "python",
   "pygments_lexer": "ipython3",
   "version": "3.8.2"
  }
 },
 "nbformat": 4,
 "nbformat_minor": 2
}
